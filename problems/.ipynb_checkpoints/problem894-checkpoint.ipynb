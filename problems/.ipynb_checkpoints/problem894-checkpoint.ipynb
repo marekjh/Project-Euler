{
 "cells": [
  {
   "cell_type": "code",
   "execution_count": null,
   "metadata": {},
   "outputs": [],
   "source": [
    "from sympy import *\n",
    "import numpy as np"
   ]
  },
  {
   "cell_type": "code",
   "execution_count": null,
   "metadata": {},
   "outputs": [],
   "source": [
    "\n",
    "alpha, theta, l = symbols(\"alpha, theta, l\")\n",
    "eqn1 = Eq(sqrt(l**2 - 2*l**2*alpha*cos(theta) + l**2*alpha**2), (alpha+1))\n",
    "eqn2 = Eq(sqrt(l**2 - 2*l**2*alpha**7*cos(7*theta) + l**2*alpha**14), (alpha**7+1))\n",
    "eqn3 = Eq(sqrt(l**2 - 2*l**2*alpha**8*cos(8*theta) + l**2*alpha**16), (alpha**8+1))\n",
    "\n",
    "nsolve([eqn1, eqn2, eqn3], [alpha, theta, l], [.9, np.pi/4, 2], prec=50)[0]"
   ]
  },
  {
   "cell_type": "code",
   "execution_count": null,
   "metadata": {},
   "outputs": [],
   "source": [
    "\n",
    "a = 1 + alpha\n",
    "b = 1 + alpha**8\n",
    "c = alpha + alpha**8\n",
    "theta1 = acos((a**2+b**2-c**2)/(2*a*b))\n",
    "theta2 = acos((a**2+c**2-b**2)/(2*a*c))\n",
    "theta3 = acos((b**2+c**2-a**2)/(2*b*c))\n",
    "\n",
    "a = 1 + alpha**7\n",
    "b = 1 + alpha**8\n",
    "c = alpha**7 + alpha**8\n",
    "theta1prime = acos((a**2+b**2-c**2)/(2*a*b))\n",
    "theta2prime = acos((a**2+c**2-b**2)/(2*a*c))\n",
    "theta3prime = acos((b**2+c**2-a**2)/(2*b*c))\n",
    "\n",
    "area = (alpha**3*sqrt(alpha**8+alpha+1) + alpha**(15/2)*sqrt(alpha**8+alpha**7+1) \n",
    "        - 1/2*(theta1+theta1prime+alpha**2*theta2+alpha**14*theta2prime+alpha**16\n",
    "        *(theta3+theta3prime)))/(1-alpha**2)"
   ]
  }
 ],
 "metadata": {
  "kernelspec": {
   "display_name": "Python 3 (ipykernel)",
   "language": "python",
   "name": "python3"
  },
  "language_info": {
   "codemirror_mode": {
    "name": "ipython",
    "version": 3
   },
   "file_extension": ".py",
   "mimetype": "text/x-python",
   "name": "python",
   "nbconvert_exporter": "python",
   "pygments_lexer": "ipython3",
   "version": "3.10.0"
  }
 },
 "nbformat": 4,
 "nbformat_minor": 2
}
